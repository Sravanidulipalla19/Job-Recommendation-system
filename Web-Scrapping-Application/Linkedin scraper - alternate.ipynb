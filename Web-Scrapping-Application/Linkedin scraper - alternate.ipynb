{
 "cells": [
  {
   "cell_type": "code",
   "execution_count": 1,
   "id": "510029a7",
   "metadata": {},
   "outputs": [
    {
     "name": "stdout",
     "output_type": "stream",
     "text": [
      "Requirement already satisfied: linkedin-jobs-scraper in /Users/harshnisar/opt/anaconda3/lib/python3.9/site-packages (1.15.2)\n",
      "Requirement already satisfied: requests in /Users/harshnisar/opt/anaconda3/lib/python3.9/site-packages (from linkedin-jobs-scraper) (2.26.0)\n",
      "Requirement already satisfied: selenium<4.0.0,>=3.141.0 in /Users/harshnisar/opt/anaconda3/lib/python3.9/site-packages (from linkedin-jobs-scraper) (3.141.0)\n",
      "Requirement already satisfied: websocket-client<1.0.0,>=0.58.0 in /Users/harshnisar/opt/anaconda3/lib/python3.9/site-packages (from linkedin-jobs-scraper) (0.59.0)\n",
      "Requirement already satisfied: urllib3 in /Users/harshnisar/opt/anaconda3/lib/python3.9/site-packages (from selenium<4.0.0,>=3.141.0->linkedin-jobs-scraper) (1.26.7)\n",
      "Requirement already satisfied: six in /Users/harshnisar/opt/anaconda3/lib/python3.9/site-packages (from websocket-client<1.0.0,>=0.58.0->linkedin-jobs-scraper) (1.16.0)\n",
      "Requirement already satisfied: certifi>=2017.4.17 in /Users/harshnisar/opt/anaconda3/lib/python3.9/site-packages (from requests->linkedin-jobs-scraper) (2021.10.8)\n",
      "Requirement already satisfied: idna<4,>=2.5 in /Users/harshnisar/opt/anaconda3/lib/python3.9/site-packages (from requests->linkedin-jobs-scraper) (3.2)\n",
      "Requirement already satisfied: charset-normalizer~=2.0.0 in /Users/harshnisar/opt/anaconda3/lib/python3.9/site-packages (from requests->linkedin-jobs-scraper) (2.0.4)\n",
      "\n",
      "\u001b[1m[\u001b[0m\u001b[34;49mnotice\u001b[0m\u001b[1;39;49m]\u001b[0m\u001b[39;49m A new release of pip available: \u001b[0m\u001b[31;49m22.1.2\u001b[0m\u001b[39;49m -> \u001b[0m\u001b[32;49m22.2\u001b[0m\n",
      "\u001b[1m[\u001b[0m\u001b[34;49mnotice\u001b[0m\u001b[1;39;49m]\u001b[0m\u001b[39;49m To update, run: \u001b[0m\u001b[32;49mpip install --upgrade pip\u001b[0m\n",
      "Note: you may need to restart the kernel to use updated packages.\n"
     ]
    }
   ],
   "source": [
    "pip install linkedin-jobs-scraper\n"
   ]
  },
  {
   "cell_type": "code",
   "execution_count": 40,
   "id": "96a341f5",
   "metadata": {},
   "outputs": [],
   "source": [
    "from bs4 import BeautifulSoup as bs\n"
   ]
  },
  {
   "cell_type": "code",
   "execution_count": 4,
   "id": "b8cbaa96",
   "metadata": {},
   "outputs": [],
   "source": [
    "import logging\n",
    "from linkedin_jobs_scraper import LinkedinScraper\n",
    "from linkedin_jobs_scraper.events import Events, EventData, EventMetrics\n",
    "from linkedin_jobs_scraper.query import Query, QueryOptions, QueryFilters\n",
    "from linkedin_jobs_scraper.filters import RelevanceFilters, TimeFilters, TypeFilters, ExperienceLevelFilters, RemoteFilters\n",
    "\n",
    "\n"
   ]
  },
  {
   "cell_type": "code",
   "execution_count": 5,
   "id": "22f6cd30",
   "metadata": {},
   "outputs": [],
   "source": [
    "# Changing root logger level (default is WARN)\n",
    "logging.basicConfig(level = logging.INFO)"
   ]
  },
  {
   "cell_type": "code",
   "execution_count": 6,
   "id": "42c1cd79",
   "metadata": {},
   "outputs": [],
   "source": [
    "# Fired once for each successfully processed job\n",
    "def on_data(data: EventData):\n",
    "    print('[ON_DATA]', data.title, data.company, data.company_link, data.date, data.link, data.insights, len(data.description))\n",
    "\n",
    "# Fired once for each page (25 jobs)\n",
    "def on_metrics(metrics: EventMetrics):\n",
    "  print('[ON_METRICS]', str(metrics))\n",
    "\n",
    "def on_error(error):\n",
    "    print('[ON_ERROR]', error)\n",
    "\n",
    "def on_end():\n",
    "    print('[ON_END]')"
   ]
  },
  {
   "cell_type": "code",
   "execution_count": 24,
   "id": "226956c2",
   "metadata": {},
   "outputs": [
    {
     "name": "stderr",
     "output_type": "stream",
     "text": [
      "INFO:li:scraper:('Using strategy AnonymousStrategy',)\n",
      "WARNING:li:scraper:(\"AnonymousStrategy is no longer maintained and it won't probably work. It is recommended to use an authenticated session, see documentation at https://github.com/spinlud/py-linkedin-jobs-scraper#anonymous-vs-authenticated-session.\",)\n"
     ]
    }
   ],
   "source": [
    "scraper = LinkedinScraper(\n",
    "    chrome_executable_path=None,  \n",
    "    chrome_options=None,  \n",
    "    headless=True,  # Overrides headless mode only if chrome_options is None\n",
    "    max_workers=1,  \n",
    "    slow_mo=1.3,  # Slows scraper to avoid 'Too many requests 429' errors \n",
    "    page_load_timeout=20  # Page load timeout    \n",
    ")"
   ]
  },
  {
   "cell_type": "code",
   "execution_count": 25,
   "id": "ada8bc02",
   "metadata": {},
   "outputs": [],
   "source": [
    "# Adding event listeners\n",
    "scraper.on(Events.DATA, on_data)\n",
    "scraper.on(Events.ERROR, on_error)\n",
    "scraper.on(Events.END, on_end)"
   ]
  },
  {
   "cell_type": "code",
   "execution_count": 26,
   "id": "ead8010e",
   "metadata": {},
   "outputs": [
    {
     "name": "stderr",
     "output_type": "stream",
     "text": [
      "INFO:li:scraper:('Starting new query', \"Query(query= options=QueryOptions(limit=27 locations=['Worldwide'] optimize=False apply_link=False))\")\n",
      "INFO:li:scraper:('Chrome debugger url', 'http://localhost:59262')\n",
      "INFO:li:scraper:('[][Worldwide]', 'Opening https://www.linkedin.com/jobs/search?location=Worldwide')\n",
      "INFO:li:scraper:('[][Worldwide]', 'Trying first selectors set')\n",
      "INFO:li:scraper:('[][Worldwide]', 'Trying second selectors set')\n",
      "INFO:li:scraper:('[][Worldwide]', 'OK')\n",
      "INFO:li:scraper:('[][Worldwide]', 'Starting pagination loop')\n",
      "INFO:li:scraper:('[][Worldwide]', 'Found 25 jobs')\n",
      "INFO:li:scraper:('[][Worldwide][1]', 'Processed')\n"
     ]
    },
    {
     "name": "stdout",
     "output_type": "stream",
     "text": [
      "[ON_DATA] Sr. Operations Analyst REQ-220412 ICE Mortgage Technology  2022-07-02 https://www.linkedin.com/jobs/view/sr-operations-analyst-req-220412-at-ice-mortgage-technology-3187226469?refId=bbdM5%2F3Labj2Z0Clh%2Bs0Vw%3D%3D&trackingId=UyZhk82vrl0yZp4M86ucUQ%3D%3D&position=1&pageNum=0&trk=public_jobs_jserp-result_search-card [] 4045\n"
     ]
    },
    {
     "name": "stderr",
     "output_type": "stream",
     "text": [
      "INFO:li:scraper:('[][Worldwide][2]', 'Processed')\n"
     ]
    },
    {
     "name": "stdout",
     "output_type": "stream",
     "text": [
      "[ON_DATA] Sr. Operations Analyst REQ-220412 ICE Mortgage Technology  2022-07-02 https://www.linkedin.com/jobs/view/sr-operations-analyst-req-220412-at-ice-mortgage-technology-3187223717?refId=bbdM5%2F3Labj2Z0Clh%2Bs0Vw%3D%3D&trackingId=Y3GqT3On5nuT9ptDyFxgVg%3D%3D&position=2&pageNum=0&trk=public_jobs_jserp-result_search-card [] 4045\n"
     ]
    },
    {
     "name": "stderr",
     "output_type": "stream",
     "text": [
      "WARNING:li:scraper:('[][Worldwide]', '[429] Too many requests', 'You should probably increase scraper \"slow_mo\" value or reduce concurrency')\n",
      "WARNING:li:scraper:('[][Worldwide]', '[429] Too many requests', 'You should probably increase scraper \"slow_mo\" value or reduce concurrency')\n",
      "ERROR:li:scraper:('[][Worldwide][3]', 'Timeout on loading job details')\n",
      "NoneType: None\n",
      "INFO:li:scraper:('[][Worldwide][3]', 'Processed')\n"
     ]
    },
    {
     "name": "stdout",
     "output_type": "stream",
     "text": [
      "[ON_DATA] Interior Designer Actalent  2022-07-24 https://www.linkedin.com/jobs/view/interior-designer-at-actalent-3187129924?refId=bbdM5%2F3Labj2Z0Clh%2Bs0Vw%3D%3D&trackingId=9Xq49BqXT1fIi9fW%2F3%2BGxg%3D%3D&position=4&pageNum=0&trk=public_jobs_jserp-result_search-card [] 1636\n"
     ]
    },
    {
     "name": "stderr",
     "output_type": "stream",
     "text": [
      "INFO:li:scraper:('[][Worldwide][4]', 'Processed')\n"
     ]
    },
    {
     "name": "stdout",
     "output_type": "stream",
     "text": [
      "[ON_DATA] Interior Designer Actalent  2022-07-24 https://www.linkedin.com/jobs/view/interior-designer-at-actalent-3187133821?refId=bbdM5%2F3Labj2Z0Clh%2Bs0Vw%3D%3D&trackingId=%2FfIh8l%2FlUrgMyraA1FYasA%3D%3D&position=5&pageNum=0&trk=public_jobs_jserp-result_search-card [] 1695\n"
     ]
    },
    {
     "name": "stderr",
     "output_type": "stream",
     "text": [
      "INFO:li:scraper:('[][Worldwide][5]', 'Processed')\n"
     ]
    },
    {
     "name": "stdout",
     "output_type": "stream",
     "text": [
      "[ON_DATA] Sr. Operations Analyst REQ-220412 ICE Mortgage Technology  2022-07-02 https://www.linkedin.com/jobs/view/sr-operations-analyst-req-220412-at-ice-mortgage-technology-3187230133?refId=bbdM5%2F3Labj2Z0Clh%2Bs0Vw%3D%3D&trackingId=kiG9BffMZTvYKznrfLHlsw%3D%3D&position=6&pageNum=0&trk=public_jobs_jserp-result_search-card [] 4045\n"
     ]
    },
    {
     "name": "stderr",
     "output_type": "stream",
     "text": [
      "INFO:li:scraper:('[][Worldwide][6]', 'Processed')\n"
     ]
    },
    {
     "name": "stdout",
     "output_type": "stream",
     "text": [
      "[ON_DATA] Interior Designer Actalent  2022-07-24 https://www.linkedin.com/jobs/view/interior-designer-at-actalent-3187137468?refId=bbdM5%2F3Labj2Z0Clh%2Bs0Vw%3D%3D&trackingId=U8BRDDzEHLzg0VolyokXbA%3D%3D&position=7&pageNum=0&trk=public_jobs_jserp-result_search-card [] 1928\n"
     ]
    },
    {
     "name": "stderr",
     "output_type": "stream",
     "text": [
      "INFO:li:scraper:('[][Worldwide][7]', 'Processed')\n"
     ]
    },
    {
     "name": "stdout",
     "output_type": "stream",
     "text": [
      "[ON_DATA] Sr. Operations Analyst REQ-220412 ICE Mortgage Technology  2022-07-02 https://www.linkedin.com/jobs/view/sr-operations-analyst-req-220412-at-ice-mortgage-technology-3187222977?refId=bbdM5%2F3Labj2Z0Clh%2Bs0Vw%3D%3D&trackingId=T7O%2FV2AQ59FkLdxBujPqKw%3D%3D&position=8&pageNum=0&trk=public_jobs_jserp-result_search-card [] 4045\n"
     ]
    },
    {
     "name": "stderr",
     "output_type": "stream",
     "text": [
      "INFO:li:scraper:('[][Worldwide][8]', 'Processed')\n"
     ]
    },
    {
     "name": "stdout",
     "output_type": "stream",
     "text": [
      "[ON_DATA] Sharepoint Admin Dice  2022-07-24 https://www.linkedin.com/jobs/view/sharepoint-admin-at-dice-3187223670?refId=bbdM5%2F3Labj2Z0Clh%2Bs0Vw%3D%3D&trackingId=66ewsCzxgt3Oa0sFSE%2FMjg%3D%3D&position=9&pageNum=0&trk=public_jobs_jserp-result_search-card [] 3788\n"
     ]
    },
    {
     "name": "stderr",
     "output_type": "stream",
     "text": [
      "INFO:li:scraper:('[][Worldwide][9]', 'Processed')\n"
     ]
    },
    {
     "name": "stdout",
     "output_type": "stream",
     "text": [
      "[ON_DATA] Vice President of Marketing TMX Finance Family of Companies  2022-07-24 https://www.linkedin.com/jobs/view/vice-president-of-marketing-at-tmx-finance-family-of-companies-3187226751?refId=bbdM5%2F3Labj2Z0Clh%2Bs0Vw%3D%3D&trackingId=2%2Bo%2FZcxt7iF5XybPpFSffw%3D%3D&position=10&pageNum=0&trk=public_jobs_jserp-result_search-card [] 6461\n"
     ]
    },
    {
     "name": "stderr",
     "output_type": "stream",
     "text": [
      "INFO:li:scraper:('[][Worldwide][10]', 'Processed')\n"
     ]
    },
    {
     "name": "stdout",
     "output_type": "stream",
     "text": [
      "[ON_DATA] Sr. Operations Analyst REQ-220412 ICE Mortgage Technology  2022-07-02 https://www.linkedin.com/jobs/view/sr-operations-analyst-req-220412-at-ice-mortgage-technology-3187223691?refId=bbdM5%2F3Labj2Z0Clh%2Bs0Vw%3D%3D&trackingId=irvbnAyDdz%2FRA%2FQaMP%2BJ%2Bg%3D%3D&position=11&pageNum=0&trk=public_jobs_jserp-result_search-card [] 4045\n"
     ]
    },
    {
     "name": "stderr",
     "output_type": "stream",
     "text": [
      "INFO:li:scraper:('[][Worldwide][11]', 'Processed')\n"
     ]
    },
    {
     "name": "stdout",
     "output_type": "stream",
     "text": [
      "[ON_DATA] Interior Designer Actalent  2022-07-24 https://www.linkedin.com/jobs/view/interior-designer-at-actalent-3187133341?refId=bbdM5%2F3Labj2Z0Clh%2Bs0Vw%3D%3D&trackingId=mUJ7AVWMnYUXE3LPMHTa4A%3D%3D&position=12&pageNum=0&trk=public_jobs_jserp-result_search-card [] 5189\n"
     ]
    },
    {
     "name": "stderr",
     "output_type": "stream",
     "text": [
      "INFO:li:scraper:('[][Worldwide][12]', 'Processed')\n"
     ]
    },
    {
     "name": "stdout",
     "output_type": "stream",
     "text": [
      "[ON_DATA] Interior Architect Actalent  2022-07-24 https://www.linkedin.com/jobs/view/interior-architect-at-actalent-3187106458?refId=bbdM5%2F3Labj2Z0Clh%2Bs0Vw%3D%3D&trackingId=74cjCP2lbYmf1T5KZJtlSg%3D%3D&position=13&pageNum=0&trk=public_jobs_jserp-result_search-card [] 1649\n"
     ]
    },
    {
     "name": "stderr",
     "output_type": "stream",
     "text": [
      "WARNING:li:scraper:('[][Worldwide]', '[429] Too many requests', 'You should probably increase scraper \"slow_mo\" value or reduce concurrency')\n",
      "INFO:li:scraper:('[][Worldwide][13]', 'Processed')\n"
     ]
    },
    {
     "name": "stdout",
     "output_type": "stream",
     "text": [
      "[ON_DATA] Sr. Operations Analyst REQ-220412 ICE Mortgage Technology  2022-07-02 https://www.linkedin.com/jobs/view/sr-operations-analyst-req-220412-at-ice-mortgage-technology-3187222853?refId=bbdM5%2F3Labj2Z0Clh%2Bs0Vw%3D%3D&trackingId=WBWg8J25Ewxm8S7DjQubpA%3D%3D&position=14&pageNum=0&trk=public_jobs_jserp-result_search-card [] 4045\n"
     ]
    },
    {
     "name": "stderr",
     "output_type": "stream",
     "text": [
      "WARNING:li:scraper:('[][Worldwide]', '[429] Too many requests', 'You should probably increase scraper \"slow_mo\" value or reduce concurrency')\n",
      "WARNING:li:scraper:('[][Worldwide]', '[429] Too many requests', 'You should probably increase scraper \"slow_mo\" value or reduce concurrency')\n",
      "ERROR:li:scraper:('[][Worldwide][14]', 'Timeout on loading job details')\n",
      "NoneType: None\n",
      "INFO:li:scraper:('[][Worldwide][14]', 'Processed')\n"
     ]
    },
    {
     "name": "stdout",
     "output_type": "stream",
     "text": [
      "[ON_DATA] Sr. Operations Analyst REQ-220412 ICE Mortgage Technology  2022-07-02 https://www.linkedin.com/jobs/view/sr-operations-analyst-req-220412-at-ice-mortgage-technology-3187221829?refId=bbdM5%2F3Labj2Z0Clh%2Bs0Vw%3D%3D&trackingId=ukIPxm7NeSBdl%2FQqZYPuoQ%3D%3D&position=16&pageNum=0&trk=public_jobs_jserp-result_search-card [] 4045\n"
     ]
    },
    {
     "name": "stderr",
     "output_type": "stream",
     "text": [
      "INFO:li:scraper:('[][Worldwide][15]', 'Processed')\n"
     ]
    },
    {
     "name": "stdout",
     "output_type": "stream",
     "text": [
      "[ON_DATA] PCB Layout Designer Trenton Systems  2022-07-24 https://www.linkedin.com/jobs/view/pcb-layout-designer-at-trenton-systems-3187171274?refId=bbdM5%2F3Labj2Z0Clh%2Bs0Vw%3D%3D&trackingId=AXGqg3RHBICdG3kXzEAtmw%3D%3D&position=17&pageNum=0&trk=public_jobs_jserp-result_search-card [] 1271\n"
     ]
    },
    {
     "name": "stderr",
     "output_type": "stream",
     "text": [
      "INFO:li:scraper:('[][Worldwide][16]', 'Processed')\n"
     ]
    },
    {
     "name": "stdout",
     "output_type": "stream",
     "text": [
      "[ON_DATA] Sr. Operations Analyst REQ-220412 ICE Mortgage Technology  2022-07-02 https://www.linkedin.com/jobs/view/sr-operations-analyst-req-220412-at-ice-mortgage-technology-3187229131?refId=bbdM5%2F3Labj2Z0Clh%2Bs0Vw%3D%3D&trackingId=sRLSIQsCvv49W5FQAW%2FhRA%3D%3D&position=18&pageNum=0&trk=public_jobs_jserp-result_search-card [] 4045\n"
     ]
    },
    {
     "name": "stderr",
     "output_type": "stream",
     "text": [
      "INFO:li:scraper:('[][Worldwide][17]', 'Processed')\n"
     ]
    },
    {
     "name": "stdout",
     "output_type": "stream",
     "text": [
      "[ON_DATA] Sr. Operations Analyst REQ-220412 ICE Mortgage Technology  2022-07-02 https://www.linkedin.com/jobs/view/sr-operations-analyst-req-220412-at-ice-mortgage-technology-3187225477?refId=bbdM5%2F3Labj2Z0Clh%2Bs0Vw%3D%3D&trackingId=x3fioz%2BbmYs7vJjp%2FcNSvQ%3D%3D&position=19&pageNum=0&trk=public_jobs_jserp-result_search-card [] 4045\n"
     ]
    },
    {
     "name": "stderr",
     "output_type": "stream",
     "text": [
      "INFO:li:scraper:('[][Worldwide][18]', 'Processed')\n"
     ]
    },
    {
     "name": "stdout",
     "output_type": "stream",
     "text": [
      "[ON_DATA] Team Member-Franchise - 4005 - Stellhorn Rd-Ft Wayne, IN (Fort Wayne, IN) Checkers & Rally’s Drive-In Restaurants  2022-07-24 https://www.linkedin.com/jobs/view/team-member-franchise-4005-stellhorn-rd-ft-wayne-in-fort-wayne-in-at-checkers-rally%E2%80%99s-drive-in-restaurants-3187114025?refId=bbdM5%2F3Labj2Z0Clh%2Bs0Vw%3D%3D&trackingId=z7JkQnm2%2FKr%2BJdJwkC25Vg%3D%3D&position=20&pageNum=0&trk=public_jobs_jserp-result_search-card [] 295\n"
     ]
    },
    {
     "name": "stderr",
     "output_type": "stream",
     "text": [
      "WARNING:li:scraper:('[][Worldwide]', '[429] Too many requests', 'You should probably increase scraper \"slow_mo\" value or reduce concurrency')\n",
      "WARNING:li:scraper:('[][Worldwide]', '[429] Too many requests', 'You should probably increase scraper \"slow_mo\" value or reduce concurrency')\n",
      "ERROR:li:scraper:('[][Worldwide][19]', 'Timeout on loading job details')\n",
      "NoneType: None\n",
      "INFO:li:scraper:('[][Worldwide][19]', 'Processed')\n"
     ]
    },
    {
     "name": "stdout",
     "output_type": "stream",
     "text": [
      "[ON_DATA] Interior Designer Actalent  2022-07-24 https://www.linkedin.com/jobs/view/interior-designer-at-actalent-3187131778?refId=bbdM5%2F3Labj2Z0Clh%2Bs0Vw%3D%3D&trackingId=lECQPpM8wsWfawwK%2Bz8rFw%3D%3D&position=22&pageNum=0&trk=public_jobs_jserp-result_search-card [] 1636\n"
     ]
    },
    {
     "name": "stderr",
     "output_type": "stream",
     "text": [
      "INFO:li:scraper:('[][Worldwide][20]', 'Processed')\n"
     ]
    },
    {
     "name": "stdout",
     "output_type": "stream",
     "text": [
      "[ON_DATA] Architectural Interior Designer Actalent  2022-07-24 https://www.linkedin.com/jobs/view/architectural-interior-designer-at-actalent-3187107129?refId=bbdM5%2F3Labj2Z0Clh%2Bs0Vw%3D%3D&trackingId=0qbm2QNeMl%2F4T6f4VVsrSA%3D%3D&position=23&pageNum=0&trk=public_jobs_jserp-result_search-card [] 3849\n"
     ]
    },
    {
     "name": "stderr",
     "output_type": "stream",
     "text": [
      "INFO:li:scraper:('[][Worldwide][21]', 'Processed')\n"
     ]
    },
    {
     "name": "stdout",
     "output_type": "stream",
     "text": [
      "[ON_DATA] Entry Level HR Admin Aston Carter  2022-07-24 https://www.linkedin.com/jobs/view/entry-level-hr-admin-at-aston-carter-3187108100?refId=bbdM5%2F3Labj2Z0Clh%2Bs0Vw%3D%3D&trackingId=TTGQLe2KXv1f4cL0iQ8NNA%3D%3D&position=24&pageNum=0&trk=public_jobs_jserp-result_search-card [] 3708\n"
     ]
    },
    {
     "name": "stderr",
     "output_type": "stream",
     "text": [
      "INFO:li:scraper:('[][Worldwide][22]', 'Processed')\n"
     ]
    },
    {
     "name": "stdout",
     "output_type": "stream",
     "text": [
      "[ON_DATA] SAP Warranty Management Consultant Dice  2022-07-24 https://www.linkedin.com/jobs/view/sap-warranty-management-consultant-at-dice-3187221636?refId=bbdM5%2F3Labj2Z0Clh%2Bs0Vw%3D%3D&trackingId=j%2Bik%2BhJDdRcuZzx1HNumvA%3D%3D&position=25&pageNum=0&trk=public_jobs_jserp-result_search-card [] 3555\n"
     ]
    },
    {
     "name": "stderr",
     "output_type": "stream",
     "text": [
      "INFO:li:scraper:('[][Worldwide][23]', 'Processed')\n"
     ]
    },
    {
     "name": "stdout",
     "output_type": "stream",
     "text": [
      "[ON_DATA] SAP Warranty Management Consultant Dice  2022-07-24 https://www.linkedin.com/jobs/view/sap-warranty-management-consultant-at-dice-3187221636?refId=s2D5PpiXW1bCPcB0ALPPWg%3D%3D&trackingId=AeI5yJJw15gjydUIbIS2RA%3D%3D&position=1&pageNum=1&trk=public_jobs_jserp-result_search-card [] 3555\n"
     ]
    },
    {
     "name": "stderr",
     "output_type": "stream",
     "text": [
      "WARNING:li:scraper:('[][Worldwide]', '[429] Too many requests', 'You should probably increase scraper \"slow_mo\" value or reduce concurrency')\n",
      "ERROR:li:scraper:('[][Worldwide][24]', 'Timeout on loading job details')\n",
      "NoneType: None\n",
      "INFO:li:scraper:('[][Worldwide][24]', 'Processed')\n"
     ]
    },
    {
     "name": "stdout",
     "output_type": "stream",
     "text": [
      "[ON_DATA] Interior Designer (NCIDQ Not Required) Actalent  2022-07-24 https://www.linkedin.com/jobs/view/interior-designer-ncidq-not-required-at-actalent-3186987290?refId=s2D5PpiXW1bCPcB0ALPPWg%3D%3D&trackingId=vmYITmmYs4A1jARimukf%2BA%3D%3D&position=3&pageNum=1&trk=public_jobs_jserp-result_search-card [] 3849\n"
     ]
    },
    {
     "name": "stderr",
     "output_type": "stream",
     "text": [
      "INFO:li:scraper:('[][Worldwide][25]', 'Processed')\n"
     ]
    },
    {
     "name": "stdout",
     "output_type": "stream",
     "text": [
      "[ON_DATA] Interior Architect Actalent  2022-07-24 https://www.linkedin.com/jobs/view/interior-architect-at-actalent-3187106313?refId=s2D5PpiXW1bCPcB0ALPPWg%3D%3D&trackingId=AAAqoLpawoEVXObJymh%2FRw%3D%3D&position=4&pageNum=1&trk=public_jobs_jserp-result_search-card [] 1945\n"
     ]
    },
    {
     "name": "stderr",
     "output_type": "stream",
     "text": [
      "WARNING:li:scraper:('[][Worldwide]', '[429] Too many requests', 'You should probably increase scraper \"slow_mo\" value or reduce concurrency')\n",
      "ERROR:li:scraper:('[][Worldwide][26]', 'Timeout on loading job details')\n",
      "NoneType: None\n",
      "INFO:li:scraper:('[][Worldwide][26]', 'Processed')\n"
     ]
    },
    {
     "name": "stdout",
     "output_type": "stream",
     "text": [
      "[ON_DATA] Interior Architect Actalent  2022-07-24 https://www.linkedin.com/jobs/view/interior-architect-at-actalent-3187108188?refId=s2D5PpiXW1bCPcB0ALPPWg%3D%3D&trackingId=qdz5hEbFQ2CvXgVZUT2NiQ%3D%3D&position=6&pageNum=1&trk=public_jobs_jserp-result_search-card [] 1601\n"
     ]
    },
    {
     "name": "stderr",
     "output_type": "stream",
     "text": [
      "INFO:li:scraper:('[][Worldwide][27]', 'Processed')\n"
     ]
    },
    {
     "name": "stdout",
     "output_type": "stream",
     "text": [
      "[ON_DATA] Assistant Maintenance Supervisor - Cobble Court Apartments Tarragon Property Services  2022-07-24 https://www.linkedin.com/jobs/view/assistant-maintenance-supervisor-cobble-court-apartments-at-tarragon-property-services-3187248642?refId=s2D5PpiXW1bCPcB0ALPPWg%3D%3D&trackingId=LD%2Byjatk%2BS7eAm5lKjK2xA%3D%3D&position=7&pageNum=1&trk=public_jobs_jserp-result_search-card [] 5421\n"
     ]
    },
    {
     "name": "stderr",
     "output_type": "stream",
     "text": [
      "INFO:li:scraper:('Starting new query', \"Query(query=Data options=QueryOptions(limit=5 locations=['United States'] filters=QueryFilters(company_jobs_url=https://www.linkedin.com/jobs/search/?f_C=1441%2C17876832%2C791962%2C2374003%2C18950635%2C16140%2C10440912&geoId=92000000 relevance=RelevanceFilters.RECENT time=TimeFilters.WEEK type=[<TypeFilters.FULL_TIME: 'F'>] experience=[<ExperienceLevelFilters.ENTRY_LEVEL: '2'>]) optimize=False apply_link=True))\")\n"
     ]
    },
    {
     "name": "stdout",
     "output_type": "stream",
     "text": [
      "[ON_END]\n"
     ]
    },
    {
     "name": "stderr",
     "output_type": "stream",
     "text": [
      "INFO:li:scraper:('Chrome debugger url', 'http://localhost:59628')\n",
      "INFO:li:scraper:('[Data][United States]', 'Opening https://www.linkedin.com/jobs/search?keywords=Data&location=United+States&f_C=1441%2C17876832%2C791962%2C2374003%2C18950635%2C16140%2C10440912&sortBy=DD&f_TPR=r604800&f_JT=F&f_E=2&start=0')\n",
      "INFO:li:scraper:('[Data][United States]', 'Trying first selectors set')\n",
      "INFO:li:scraper:('[Data][United States]', 'Trying second selectors set')\n",
      "INFO:li:scraper:('[Data][United States]', 'OK')\n",
      "INFO:li:scraper:('[Data][United States]', 'Starting pagination loop')\n",
      "INFO:li:scraper:('[Data][United States]', 'No jobs found, skip')\n"
     ]
    },
    {
     "name": "stdout",
     "output_type": "stream",
     "text": [
      "[ON_END]\n"
     ]
    }
   ],
   "source": [
    "# obtaining job listings from linkedin\n",
    "queries = [\n",
    "    Query(\n",
    "        options=QueryOptions(            \n",
    "            limit=27  # Limit the number of jobs to scrape.            \n",
    "        )\n",
    "    ),\n",
    "    Query(\n",
    "        query='Data',\n",
    "        options=QueryOptions(\n",
    "            locations=['United States'],            \n",
    "            apply_link = True,  # Try to extract apply link (easy applies are skipped). Default to False.\n",
    "            limit=5,\n",
    "            filters=QueryFilters(              \n",
    "                company_jobs_url='https://www.linkedin.com/jobs/search/?f_C=1441%2C17876832%2C791962%2C2374003%2C18950635%2C16140%2C10440912&geoId=92000000',  # Filter by companies.\n",
    "                relevance=RelevanceFilters.RECENT,\n",
    "                time=TimeFilters.WEEK,\n",
    "                type=[TypeFilters.FULL_TIME],\n",
    "                experience=[ExperienceLevelFilters.ENTRY_LEVEL],                \n",
    "            )\n",
    "        )\n",
    "    ),\n",
    "]\n",
    "\n",
    "scraper.run(queries)"
   ]
  },
  {
   "cell_type": "code",
   "execution_count": null,
   "id": "fc59eef8",
   "metadata": {},
   "outputs": [],
   "source": []
  },
  {
   "cell_type": "code",
   "execution_count": 41,
   "id": "da9a0a06",
   "metadata": {},
   "outputs": [
    {
     "ename": "NameError",
     "evalue": "name 'soup' is not defined",
     "output_type": "error",
     "traceback": [
      "\u001b[0;31m---------------------------------------------------------------------------\u001b[0m",
      "\u001b[0;31mNameError\u001b[0m                                 Traceback (most recent call last)",
      "\u001b[0;32m/var/folders/1_/slchh4qj49x2_jr_bbv7v5380000gn/T/ipykernel_29053/2454195045.py\u001b[0m in \u001b[0;36m<module>\u001b[0;34m\u001b[0m\n\u001b[1;32m     12\u001b[0m \u001b[0;31m#print(json_object)\u001b[0m\u001b[0;34m\u001b[0m\u001b[0;34m\u001b[0m\u001b[0m\n\u001b[1;32m     13\u001b[0m \u001b[0;34m\u001b[0m\u001b[0m\n\u001b[0;32m---> 14\u001b[0;31m \u001b[0mjob_lists\u001b[0m \u001b[0;34m=\u001b[0m \u001b[0msoup\u001b[0m\u001b[0;34m.\u001b[0m\u001b[0mfind_all\u001b[0m\u001b[0;34m(\u001b[0m\u001b[0;34m\"div\"\u001b[0m\u001b[0;34m,\u001b[0m \u001b[0;34m{\u001b[0m\u001b[0;34m\"class\"\u001b[0m\u001b[0;34m:\u001b[0m \u001b[0;34m\"job_seen_beacon\"\u001b[0m\u001b[0;34m}\u001b[0m\u001b[0;34m)\u001b[0m\u001b[0;34m\u001b[0m\u001b[0;34m\u001b[0m\u001b[0m\n\u001b[0m\u001b[1;32m     15\u001b[0m \u001b[0;32mfor\u001b[0m \u001b[0mjob\u001b[0m \u001b[0;32min\u001b[0m \u001b[0mjob_lists\u001b[0m\u001b[0;34m:\u001b[0m\u001b[0;34m\u001b[0m\u001b[0;34m\u001b[0m\u001b[0m\n\u001b[1;32m     16\u001b[0m             \u001b[0mjob_info\u001b[0m \u001b[0;34m=\u001b[0m \u001b[0mextract_job_info\u001b[0m\u001b[0;34m(\u001b[0m\u001b[0mjob\u001b[0m\u001b[0;34m)\u001b[0m\u001b[0;34m\u001b[0m\u001b[0;34m\u001b[0m\u001b[0m\n",
      "\u001b[0;31mNameError\u001b[0m: name 'soup' is not defined"
     ]
    }
   ],
   "source": [
    "# parsing obtained data to json\n",
    "json = []\n",
    " for job in job_lists:\n",
    "            job_info = extract_job_info(job)\n",
    "            json.append(job_info)\n",
    "            39\n",
    "\n",
    "import json\n",
    "   \n",
    "# Data to be written\n",
    "#dictionary ={\n",
    " # \"locations\": \"04\",\n",
    "  #\"apply_link\": \"sunil\",\n",
    "  #\"company_jobs_url\", \n",
    "#}\n",
    "   \n",
    "# Serializing json \n",
    "#json_object = json.dumps(dictionary, indent = 4)\n",
    "#print(json_object)\n",
    "\n",
    "job_lists = soup.find_all(\"div\", {\"class\": \"job_seen_beacon\"})\n",
    "for job in job_lists:\n",
    "            job_info = extract_job_info(job)\n",
    "            json.append(job_info)\n",
    "            \n",
    "job_lists = job_lists = soup.find_all(\"div\", {\"class\": \"job_seen_beacon\"})\n",
    "\n",
    "for job in job_lists:\n",
    "            job_info = extract_job_info(job)\n",
    "            json.append(job_info)\n",
    "\n",
    "job_info = {\n",
    "        \"job_id\":job_id,\n",
    "        \"company_name\":company_name,\n",
    "        \"role\": role_name,\n",
    "        \"location\":location,\n",
    "        \"salary_estimated\": salary_estimated,\n",
    "        \"job_description\": job_description,\n",
    "        \"url\": prefix+hyperlink,\n",
    "    }\n",
    "\n",
    "\n"
   ]
  }
 ],
 "metadata": {
  "kernelspec": {
   "display_name": "Python 3 (ipykernel)",
   "language": "python",
   "name": "python3"
  },
  "language_info": {
   "codemirror_mode": {
    "name": "ipython",
    "version": 3
   },
   "file_extension": ".py",
   "mimetype": "text/x-python",
   "name": "python",
   "nbconvert_exporter": "python",
   "pygments_lexer": "ipython3",
   "version": "3.9.7"
  }
 },
 "nbformat": 4,
 "nbformat_minor": 5
}
